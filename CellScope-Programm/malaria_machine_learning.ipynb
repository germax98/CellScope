{
  "cells": [
    {
      "cell_type": "code",
      "execution_count": 2,
      "metadata": {
        "id": "kRWRij60T41h"
      },
      "outputs": [],
      "source": [
        "import csv\n",
        "import cupy as np\n",
        "import glob\n",
        "import math\n",
        "import numpy\n",
        "import os\n",
        "import random\n"
      ]
    },
    {
      "cell_type": "code",
      "execution_count": 4,
      "metadata": {
        "colab": {
          "base_uri": "https://localhost:8080/"
        },
        "id": "Guv9shXlT41n",
        "outputId": "78210973-f0bd-406a-fd16-7c009170897f"
      },
      "outputs": [],
      "source": [
        "mempool = np.get_default_memory_pool()"
      ]
    },
    {
      "cell_type": "code",
      "execution_count": 5,
      "metadata": {
        "id": "9tL_JvhbT41n"
      },
      "outputs": [],
      "source": [
        "def sigmoid(t):\n",
        "  return 1/(1+np.exp(-t))\n",
        "\n",
        "def sigmoid_der(t):\n",
        "  derivative = t*(1-t)\n",
        "  array = np.array(derivative, ndmin = 2)\n",
        "  return array\n",
        "\n",
        "def calculate_output(weights, input, bias):\n",
        "  weighted_sum = np.dot(weights,input) + bias\n",
        "  output = sigmoid(weighted_sum)\n",
        "  return output \n",
        "\n",
        "def get_expected(file):\n",
        "  path = os.path.normpath(file)\n",
        "  tmp = path.split(os.sep)\n",
        "  filename = tmp[-1]\n",
        "\n",
        "  if \"parasitized\" in filename:\n",
        "    out_expected = 0.99\n",
        "  elif \"uninfected\" in filename:\n",
        "    out_expected = 0.01\n",
        "    \n",
        "  return out_expected\n",
        "\n",
        "def calculate_loss(error):\n",
        "  sum_square_error = np.sum(error)\n",
        "  mean_square_error = 1 / len(error) * sum_square_error\n",
        "  return mean_square_error\n",
        "\n",
        "def calculate_accuracy(true_positive, false_positive, false_negative, true_negative):\n",
        "  accuracy = (true_positive + true_negative) / (true_positive + false_positive + false_negative + true_negative)\n",
        "  return accuracy\n",
        "\n",
        "def calculate_precision(true_positive, false_positive):\n",
        "  try:\n",
        "    precision = true_positive / (true_positive + false_positive)\n",
        "  except ZeroDivisionError:\n",
        "    precision = -1\n",
        "  return precision\n",
        "\n",
        "def calculate_recall(true_positive, false_negative):\n",
        "  recall = true_positive / (true_positive + false_negative)\n",
        "  return recall\n",
        "\n",
        "def load_malaria(file):\n",
        "  raw_image_data = np.asarray(Image.open(file), dtype = np.float32)\n",
        "  image_data = raw_image_data.flatten()\n",
        "  image_data = (image_data / 255) * 0.98 + 0.01\n",
        "  return image_data\n",
        "\n",
        "def backwards_propagation_new(out_output, out_expected, out_hidden1, out_hidden2, out_hidden3, out_hidden4, out_hidden5, hidden2_weights, hidden3_weights, hidden4_weights, hidden5_weights, output_weights, input_data):      \n",
        "\n",
        "  #backwards propagation for the output weights\n",
        "  der_error_der_out_output = out_output - out_expected\n",
        "  der_out_output_der_weightedsum_output = sigmoid_der(out_output)\n",
        "  der_weightedsum_output_der_weights_output = out_hidden5\n",
        "\n",
        "  delta_weights_output = np.outer(der_error_der_out_output * der_out_output_der_weightedsum_output, der_weightedsum_output_der_weights_output)\n",
        "\n",
        "  #backwardspropagation for hidden5_weights\n",
        "\n",
        "  der_error_der_output_hidden5 = np.outer(der_error_der_out_output * der_out_output_der_weightedsum_output, output_weights)\n",
        "  der_output_hidden5_der_weightedsum_hidden5 = sigmoid_der(out_hidden5)\n",
        "  der_weightedsum_hidden5_der_weights_hidden = out_hidden4\n",
        "\n",
        "  delta_weights_hidden5 = np.outer(der_error_der_output_hidden5 * der_output_hidden5_der_weightedsum_hidden5, der_weightedsum_hidden5_der_weights_hidden)\n",
        "\n",
        "  #backwardspropagation for hidden4_weights\n",
        "  der_error_der_output_hidden4 = np.dot(der_error_der_output_hidden5 * der_output_hidden5_der_weightedsum_hidden5, hidden5_weights\n",
        ")\n",
        "  der_output_hidden4_der_weightedsum_hidden4 = sigmoid_der(out_hidden4)\n",
        "  der_weightedsum_hidden4_der_weights_hidden = out_hidden3\n",
        "\n",
        "  delta_weights_hidden4 = np.outer(der_error_der_output_hidden4 * der_output_hidden4_der_weightedsum_hidden4, der_weightedsum_hidden4_der_weights_hidden)\n",
        "\n",
        "  #backwardspropagation for hidden3_weights\n",
        "  der_error_der_output_hidden3 = np.dot(der_error_der_output_hidden4 * der_output_hidden4_der_weightedsum_hidden4, hidden4_weights)\n",
        "  der_output_hidden3_der_weightedsum_hidden3 = sigmoid_der(out_hidden3)\n",
        "  der_weightedsum_hidden3_der_weights_hidden = out_hidden2\n",
        "\n",
        "  delta_weights_hidden3 = np.outer(der_error_der_output_hidden3 * der_output_hidden3_der_weightedsum_hidden3, der_weightedsum_hidden3_der_weights_hidden)\n",
        "\n",
        "  #backwardspropagation for hidden_weights\n",
        "  der_error_der_output_hidden2 = np.dot(der_error_der_output_hidden3 * der_output_hidden3_der_weightedsum_hidden3, hidden3_weights)\n",
        "  der_output_hidden2_der_weightedsum_hidden2 = sigmoid_der(out_hidden2)\n",
        "  der_weightedsum_hidden2_der_weights_hidden = out_hidden1\n",
        "\n",
        "  delta_weights_hidden2 = np.outer(der_error_der_output_hidden2 * der_output_hidden2_der_weightedsum_hidden2, der_weightedsum_hidden2_der_weights_hidden)\n",
        "\n",
        "  #backwards propagation for the input weights\n",
        "  der_error_der_out_hidden1 = np.dot(der_error_der_output_hidden2 * der_output_hidden2_der_weightedsum_hidden2, hidden2_weights\n",
        ")\n",
        "  der_out_hidden1_der_weightedsum_hidden1 = sigmoid_der(out_hidden1)\n",
        "  der_weightedsum_hidden1_der_weights_input = input_data\n",
        "\n",
        "  delta_weights_hidden1 = np.outer(der_error_der_out_hidden1 * der_out_hidden1_der_weightedsum_hidden1, der_weightedsum_hidden1_der_weights_input)#1000, 39601\n",
        "\n",
        "  return delta_weights_output, delta_weights_hidden5, delta_weights_hidden4, delta_weights_hidden3, delta_weights_hidden2, delta_weights_hidden1"
      ]
    },
    {
      "cell_type": "code",
      "execution_count": 15,
      "metadata": {
        "id": "dXgKJwJxT41p"
      },
      "outputs": [
        {
          "name": "stdout",
          "output_type": "stream",
          "text": [
            "No Arrays to delete\n"
          ]
        }
      ],
      "source": [
        "training_data = \"/home/leon/Documents/Studienprojekt/Gesichtserkennung/Gesichtserkennung/data/images/training_palette\"\n",
        "validation_data = \"/home/leon/Documents/Studienprojekt/Gesichtserkennung/Gesichtserkennung/data/images/validation_palette\"\n",
        "\n",
        "try:\n",
        "  del hidden1_weights\n",
        "  del hidden2_weights\n",
        "  del hidden3_weights\n",
        "  del hidden4_weights\n",
        "  del hidden5_weights\n",
        "  del output_weights\n",
        "  del raw_image_data\n",
        "  del out_output\n",
        "  del out_hidden1\n",
        "  del out_hidden2\n",
        "  del image_data\n",
        "except NameError:\n",
        "  print(\"No Arrays to delete\")\n",
        "\n",
        "mempool.free_all_blocks()\n",
        "#input = 39601\n",
        "#hidden1 = 100\n",
        "#hidden2 = 10\n",
        "#output = 1\n",
        "\n",
        "hidden1_weights = np.array(2 * np.random.random((1000,39601)).astype(np.float32) - 1, ndmin = 2)\n",
        "hidden2_weights = np.array(2 * np.random.random((800,1000)).astype(np.float32) - 1, ndmin = 2)\n",
        "hidden3_weights = np.array(2 * np.random.random((600,800)).astype(np.float32) - 1, ndmin = 2)\n",
        "hidden4_weights = np.array(2 * np.random.random((400,600)).astype(np.float32) - 1, ndmin = 2)\n",
        "hidden5_weights = np.array(2 * np.random.random((200,400)).astype(np.float32) - 1, ndmin = 2)\n",
        "output_weights = np.array(2 * np.random.random((1,200)).astype(np.float32) - 1, ndmin = 2)\n",
        "bias = 0\n",
        "L = 0.01\n",
        "epochs = 50\n",
        "\n",
        "true_positive = 0\n",
        "false_positive = 0\n",
        "false_negative = 0\n",
        "true_negative = 0"
      ]
    },
    {
      "cell_type": "code",
      "execution_count": 16,
      "metadata": {
        "id": "EQPdWOsDT41q"
      },
      "outputs": [],
      "source": [
        "training_images = list()\n",
        "for file in glob.glob(training_data + r\"/*.png\"):\n",
        "    training_images.append(file)\n",
        "random.shuffle(training_images)"
      ]
    },
    {
      "cell_type": "code",
      "execution_count": 17,
      "metadata": {
        "colab": {
          "base_uri": "https://localhost:8080/"
        },
        "id": "Dn4bkRVhT41r",
        "outputId": "404b9533-2ba0-4901-bdd0-cf81675be550"
      },
      "outputs": [
        {
          "name": "stdout",
          "output_type": "stream",
          "text": [
            "1 6252 3199 3487 7760 0.10241153 0.6769736206396754 0.6615172997566395 0.6419550261833864\n",
            "2 6600 2950 3139 8009 0.09344588 0.7058169871485168 0.6910994764397905 0.6776876476024233\n",
            "3 6873 2916 2866 8043 0.089317545 0.7206493381002995 0.7021146184492798 0.705719273025978\n",
            "4 7268 2775 2471 8184 0.082529135 0.7465455599574838 0.723688140993727 0.746277851935517\n",
            "5 7339 2680 2400 8279 0.08037217 0.7545656585177312 0.732508234354726 0.7535681281445734\n",
            "6 7392 2638 2347 8321 0.07932687 0.7591554739588366 0.7369890329012961 0.759010165314714\n",
            "7 7420 2604 2319 8355 0.07841906 0.7621509324572422 0.7402234636871509 0.761885203819694\n",
            "8 7479 2602 2260 8357 0.077551365 0.7650980771088994 0.7418906854478723 0.7679433206694732\n",
            "9 7491 2575 2248 8384 0.07696383 0.7669823171320901 0.7441883568448242 0.7691754800287504\n",
            "10 7516 2568 2223 8391 0.076431796 0.7685283602280414 0.7453391511305038 0.7717424786939111\n",
            "11 7547 2549 2192 8410 0.07591254 0.7709440525654653 0.7475237717908082 0.7749255570387104\n",
            "12 7569 2525 2170 8434 0.075426206 0.7731664895158953 0.7498513968694274 0.7771845158640518\n"
          ]
        },
        {
          "ename": "KeyboardInterrupt",
          "evalue": "",
          "output_type": "error",
          "traceback": [
            "\u001b[0;31m---------------------------------------------------------------------------\u001b[0m",
            "\u001b[0;31mKeyboardInterrupt\u001b[0m                         Traceback (most recent call last)",
            "\u001b[0;32m/tmp/ipykernel_45099/958529432.py\u001b[0m in \u001b[0;36m<module>\u001b[0;34m\u001b[0m\n\u001b[1;32m     14\u001b[0m \u001b[0;34m\u001b[0m\u001b[0m\n\u001b[1;32m     15\u001b[0m   \u001b[0;32mfor\u001b[0m \u001b[0mfile\u001b[0m \u001b[0;32min\u001b[0m \u001b[0mtraining_images\u001b[0m\u001b[0;34m:\u001b[0m\u001b[0;34m\u001b[0m\u001b[0;34m\u001b[0m\u001b[0m\n\u001b[0;32m---> 16\u001b[0;31m     \u001b[0mimage_data\u001b[0m \u001b[0;34m=\u001b[0m \u001b[0mload_malaria\u001b[0m\u001b[0;34m(\u001b[0m\u001b[0mfile\u001b[0m\u001b[0;34m)\u001b[0m\u001b[0;34m\u001b[0m\u001b[0;34m\u001b[0m\u001b[0m\n\u001b[0m\u001b[1;32m     17\u001b[0m \u001b[0;34m\u001b[0m\u001b[0m\n\u001b[1;32m     18\u001b[0m     \u001b[0mout_expected\u001b[0m \u001b[0;34m=\u001b[0m \u001b[0mget_expected\u001b[0m\u001b[0;34m(\u001b[0m\u001b[0mfile\u001b[0m\u001b[0;34m)\u001b[0m\u001b[0;34m\u001b[0m\u001b[0;34m\u001b[0m\u001b[0m\n",
            "\u001b[0;32m/tmp/ipykernel_45099/516724747.py\u001b[0m in \u001b[0;36mload_malaria\u001b[0;34m(file)\u001b[0m\n\u001b[1;32m     52\u001b[0m   \u001b[0mraw_image_data\u001b[0m \u001b[0;34m=\u001b[0m \u001b[0mnp\u001b[0m\u001b[0;34m.\u001b[0m\u001b[0masarray\u001b[0m\u001b[0;34m(\u001b[0m\u001b[0mImage\u001b[0m\u001b[0;34m.\u001b[0m\u001b[0mopen\u001b[0m\u001b[0;34m(\u001b[0m\u001b[0mfile\u001b[0m\u001b[0;34m)\u001b[0m\u001b[0;34m,\u001b[0m \u001b[0mdtype\u001b[0m \u001b[0;34m=\u001b[0m \u001b[0mnp\u001b[0m\u001b[0;34m.\u001b[0m\u001b[0mfloat32\u001b[0m\u001b[0;34m)\u001b[0m\u001b[0;34m\u001b[0m\u001b[0;34m\u001b[0m\u001b[0m\n\u001b[1;32m     53\u001b[0m   \u001b[0mimage_data\u001b[0m \u001b[0;34m=\u001b[0m \u001b[0mraw_image_data\u001b[0m\u001b[0;34m.\u001b[0m\u001b[0mflatten\u001b[0m\u001b[0;34m(\u001b[0m\u001b[0;34m)\u001b[0m\u001b[0;34m\u001b[0m\u001b[0;34m\u001b[0m\u001b[0m\n\u001b[0;32m---> 54\u001b[0;31m   \u001b[0mimage_data\u001b[0m \u001b[0;34m=\u001b[0m \u001b[0;34m(\u001b[0m\u001b[0mimage_data\u001b[0m \u001b[0;34m/\u001b[0m \u001b[0;36m255\u001b[0m\u001b[0;34m)\u001b[0m \u001b[0;34m*\u001b[0m \u001b[0;36m0.98\u001b[0m \u001b[0;34m+\u001b[0m \u001b[0;36m0.01\u001b[0m\u001b[0;34m\u001b[0m\u001b[0;34m\u001b[0m\u001b[0m\n\u001b[0m\u001b[1;32m     55\u001b[0m   \u001b[0;32mreturn\u001b[0m \u001b[0mimage_data\u001b[0m\u001b[0;34m\u001b[0m\u001b[0;34m\u001b[0m\u001b[0m\n\u001b[1;32m     56\u001b[0m \u001b[0;34m\u001b[0m\u001b[0m\n",
            "\u001b[0;31mKeyboardInterrupt\u001b[0m: "
          ]
        }
      ],
      "source": [
        "run = 0\n",
        "storage = list()\n",
        "\n",
        "\n",
        "for epoch in range(epochs):\n",
        "  run += 1\n",
        "\n",
        "  true_positive = 0\n",
        "  false_positive = 0\n",
        "  false_negative = 0\n",
        "  true_negative = 0\n",
        "\n",
        "  error = np.empty((0,0), dtype = np.float32)\n",
        "\n",
        "  for file in training_images:\n",
        "    image_data = load_malaria(file)\n",
        "\n",
        "    out_expected = get_expected(file)\n",
        "\n",
        "    out_hidden1 = calculate_output(hidden1_weights, image_data, bias)\n",
        "    out_hidden2 = calculate_output(hidden2_weights, out_hidden1, bias)\n",
        "    out_hidden3 = calculate_output(hidden3_weights, out_hidden2, bias)\n",
        "    out_hidden4 = calculate_output(hidden4_weights, out_hidden3, bias)\n",
        "    out_hidden5 = calculate_output(hidden5_weights, out_hidden4, bias)\n",
        "    out_output = calculate_output(output_weights, out_hidden5, bias)\n",
        "\n",
        "    error = np.append(error, ((1 / 2) * np.power((out_expected - out_output), 2)))\n",
        "\n",
        "    if out_expected > 0.5 and out_output >= 0.5:\n",
        "      true_positive+=1\n",
        "    elif out_expected < 0.5 and out_output >= 0.5:\n",
        "      false_positive+=1\n",
        "    elif out_expected > 0.5 and out_output < 0.5:\n",
        "      false_negative+=1\n",
        "    elif out_expected < 0.5 and out_output < 0.5:\n",
        "      true_negative+=1\n",
        "    else:\n",
        "      print(out_expected, out_output)\n",
        "\n",
        "\n",
        "    delta_weights_output, delta_weights_hidden5, delta_weights_hidden4, delta_weights_hidden3, delta_weights_hidden2, delta_weights_hidden1 = backwards_propagation_new(out_output, out_expected, out_hidden1, out_hidden2, out_hidden3, out_hidden4, out_hidden5, hidden2_weights, hidden3_weights, hidden4_weights, hidden5_weights, output_weights, image_data)\n",
        "    \n",
        "    #update weights\n",
        "    output_weights = output_weights - L * delta_weights_output\n",
        "    hidden1_weights = hidden1_weights - L * delta_weights_hidden1\n",
        "    hidden2_weights = hidden2_weights - L * delta_weights_hidden2\n",
        "    hidden3_weights = hidden3_weights - L * delta_weights_hidden3\n",
        "    hidden4_weights = hidden4_weights - L * delta_weights_hidden4\n",
        "    hidden5_weights = hidden5_weights - L * delta_weights_hidden5\n",
        "\n",
        "  loss = calculate_loss(error)\n",
        "  accuracy = calculate_accuracy(true_positive, false_positive, false_negative, true_negative)\n",
        "  precision = calculate_precision(true_positive, false_positive)\n",
        "  recall = calculate_recall(true_positive, false_negative)\n",
        "  \n",
        "  if loss < 0.09:\n",
        "    L = 0.001\n",
        "  elif loss < 0.08:\n",
        "    L = 0.0001\n",
        "  elif loss < 0.07:\n",
        "    L = 0.00001\n",
        "\n",
        "  tmp_list = [run, true_positive, false_positive, false_negative, true_negative, float(loss), accuracy, precision, recall]\n",
        "  storage.append(tmp_list)\n",
        "  print(run, true_positive, false_positive, false_negative, true_negative, loss, accuracy, precision, recall)"
      ]
    },
    {
      "cell_type": "code",
      "execution_count": 7,
      "metadata": {
        "id": "2Lq5zNuT8XB6"
      },
      "outputs": [
        {
          "name": "stdout",
          "output_type": "stream",
          "text": [
            "1899 668 546 2062 0.084269404 0.7654106280193237 0.7397740553174912 0.7766871165644171\n"
          ]
        }
      ],
      "source": [
        "tmp_list = list()\n",
        "\n",
        "true_positive = 0\n",
        "false_positive = 0\n",
        "false_negative = 0\n",
        "true_negative = 0\n",
        "error = np.empty((0,0), dtype = np.float32)\n",
        "\n",
        "for file in glob.glob(validation_data + r\"/*.png\"):\n",
        "  raw_image_data = np.asarray(Image.open(file), dtype = np.float32)\n",
        "  image_data = raw_image_data.flatten()\n",
        "  image_data = (image_data / 255) * 0.98 + 0.01\n",
        "\n",
        "  out_expected = get_expected(file)\n",
        "\n",
        "  out_hidden1 = calculate_output(hidden1_weights, image_data, bias)\n",
        "  out_hidden2 = calculate_output(hidden2_weights, out_hidden1, bias)\n",
        "  out_hidden3 = calculate_output(hidden3_weights, out_hidden2, bias)\n",
        "  out_hidden4 = calculate_output(hidden4_weights, out_hidden3, bias)\n",
        "  out_hidden5 = calculate_output(hidden5_weights, out_hidden4, bias)\n",
        "  out_output = calculate_output(output_weights, out_hidden5, bias)\n",
        "\n",
        "  error = np.append(error, ((1 / 2) * np.power((out_expected - out_output), 2)))\n",
        "\n",
        "  if out_expected > 0.5 and out_output > 0.5:\n",
        "    true_positive+=1\n",
        "  elif out_expected < 0.5 and out_output > 0.5:\n",
        "    false_positive+=1\n",
        "  elif out_expected > 0.5 and out_output < 0.5:\n",
        "    false_negative+=1\n",
        "  elif out_expected < 0.5 and out_output < 0.5:\n",
        "    true_negative+=1\n",
        "  else:\n",
        "    print(out_expected, out_output)\n",
        "  \n",
        "loss = calculate_loss(error)\n",
        "accuracy = calculate_accuracy(true_positive, false_positive, false_negative, true_negative)\n",
        "precision = calculate_precision(true_positive, false_positive)\n",
        "recall = calculate_recall(true_positive, false_negative)\n",
        "run = -1\n",
        "\n",
        "tmp_list = [run, true_positive, false_positive, false_negative, true_negative, float(loss), accuracy, precision, recall]\n",
        "storage.append(tmp_list)\n",
        "    \n",
        "print(true_positive, false_positive, false_negative, true_negative, loss, accuracy, precision, recall)\n",
        "\n",
        "# with open(\"/home/leon/Documents/Studienprojekt/Gesichtserkennung/Gesichtserkennung/result.csv\", 'w') as results:\n",
        "#     wr = csv.writer(results)\n",
        "#     wr.writerows(storage)\n",
        "# np.save(\"/home/leon/Documents/Studienprojekt/Gesichtserkennung/Gesichtserkennung/hidden1_weights.npy\", hidden1_weights)\n",
        "# np.save(\"/home/leon/Documents/Studienprojekt/Gesichtserkennung/Gesichtserkennung/hidden2_weights.npy\", hidden2_weights)\n",
        "# np.save(\"/home/leon/Documents/Studienprojekt/Gesichtserkennung/Gesichtserkennung/hidden3_weights.npy\", hidden3_weights)\n",
        "# np.save(\"/home/leon/Documents/Studienprojekt/Gesichtserkennung/Gesichtserkennung/hidden4_weights.npy\", hidden4_weights)\n",
        "# np.save(\"/home/leon/Documents/Studienprojekt/Gesichtserkennung/Gesichtserkennung/hidden5_weights.npy\", hidden5_weights)\n",
        "# np.save(\"/home/leon/Documents/Studienprojekt/Gesichtserkennung/Gesichtserkennung/output_weights.npy\", output_weights)"
      ]
    }
  ],
  "metadata": {
    "accelerator": "GPU",
    "colab": {
      "name": "Malaria_machine_learning.ipynb",
      "provenance": []
    },
    "kernelspec": {
      "display_name": "Python 3",
      "language": "python",
      "name": "python3"
    },
    "language_info": {
      "codemirror_mode": {
        "name": "ipython",
        "version": 3
      },
      "file_extension": ".py",
      "mimetype": "text/x-python",
      "name": "python",
      "nbconvert_exporter": "python",
      "pygments_lexer": "ipython3",
      "version": "3.11.1"
    },
    "vscode": {
      "interpreter": {
        "hash": "aee8b7b246df8f9039afb4144a1f6fd8d2ca17a180786b69acc140d282b71a49"
      }
    }
  },
  "nbformat": 4,
  "nbformat_minor": 0
}
